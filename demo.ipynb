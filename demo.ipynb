{
 "cells": [
  {
   "cell_type": "markdown",
   "metadata": {
    "hideCode": false,
    "hidePrompt": false
   },
   "source": [
    "## Hide_code: Jupyter code, input and output hiding\n",
    "\n",
    "To get started, select \"View\" -> \"Cell Toolbar\" -> \"Hide code\""
   ]
  },
  {
   "cell_type": "code",
   "execution_count": 1,
   "metadata": {
    "hideCode": false,
    "hidePrompt": false
   },
   "outputs": [
    {
     "name": "stdout",
     "output_type": "stream",
     "text": [
      "Goodbye prompts\n"
     ]
    }
   ],
   "source": [
    "print('Goodbye code')"
   ]
  },
  {
   "cell_type": "code",
   "execution_count": 2,
   "metadata": {
    "hideCode": false,
    "hidePrompt": false
   },
   "outputs": [
    {
     "name": "stdout",
     "output_type": "stream",
     "text": [
      "Goodbye prompts\n"
     ]
    }
   ],
   "source": [
    "print('Goodbye prompts')"
   ]
  },
  {
   "cell_type": "code",
   "execution_count": 3,
   "metadata": {
    "hideCode": false,
    "hideOutput": true,
    "hidePrompt": false
   },
   "outputs": [
    {
     "name": "stdout",
     "output_type": "stream",
     "text": [
      "Goodbye output\n"
     ]
    }
   ],
   "source": [
    "print('Goodbye output')"
   ]
  },
  {
   "cell_type": "markdown",
   "metadata": {
    "hideCode": false,
    "hidePrompt": false
   },
   "source": [
    "Change cell toolbar to \"None\" to pretty up the notebook."
   ]
  },
  {
   "cell_type": "markdown",
   "metadata": {
    "hideCode": false,
    "hidePrompt": false
   },
   "source": [
    "Tryout the [keyboard shortcuts](https://github.com/kirbs-/hide_code/wiki/Keyboard-Shortcuts).\n"
   ]
  },
  {
   "cell_type": "code",
   "execution_count": 5,
   "metadata": {
    "hideCode": false,
    "hidePrompt": false
   },
   "outputs": [
    {
     "name": "stdout",
     "output_type": "stream",
     "text": [
      "Try hiding code by kitting the W key in command mode (blue bar highlight on this cell).\n"
     ]
    }
   ],
   "source": [
    "print(\"Try hiding code by kitting the W key in command mode (blue bar highlight on this cell).\")"
   ]
  },
  {
   "cell_type": "code",
   "execution_count": 6,
   "metadata": {
    "hideCode": false,
    "hidePrompt": false
   },
   "outputs": [
    {
     "name": "stdout",
     "output_type": "stream",
     "text": [
      "Unhide code with SHIFT + W.\n"
     ]
    }
   ],
   "source": [
    "print(\"Unhide code with SHIFT + W.\")"
   ]
  },
  {
   "cell_type": "markdown",
   "metadata": {
    "hideCode": false,
    "hidePrompt": false
   },
   "source": [
    "Try selecting the above two cells (SHIFT + click) and hiding/unhiding their code with the \"W\"/SHIFT + \"W\" keys.\n",
    "\n",
    "Want to hide everything or need to start over? Click on the '</>' icon above. This toggles hidind all code and inputs at once. \n",
    "\n",
    "When the notebook is formatted to your liking, click on the \"Hide Code\" menu bar to export into your desired format."
   ]
  },
  {
   "cell_type": "code",
   "execution_count": null,
   "metadata": {},
   "outputs": [],
   "source": []
  }
 ],
 "metadata": {
  "celltoolbar": "Hide code",
  "hide_code_all_hidden": false,
  "kernelspec": {
   "display_name": "Python 3",
   "language": "python",
   "name": "python3"
  },
  "language_info": {
   "codemirror_mode": {
    "name": "ipython",
    "version": 3
   },
   "file_extension": ".py",
   "mimetype": "text/x-python",
   "name": "python",
   "nbconvert_exporter": "python",
   "pygments_lexer": "ipython3",
   "version": "3.7.6"
  }
 },
 "nbformat": 4,
 "nbformat_minor": 4
}